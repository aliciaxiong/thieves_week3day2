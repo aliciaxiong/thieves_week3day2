{
 "cells": [
  {
   "cell_type": "markdown",
   "metadata": {},
   "source": [
    "# Map, Filter, Reduce, Lambda & Recursion"
   ]
  },
  {
   "cell_type": "markdown",
   "metadata": {},
   "source": [
    "## Tasks Today:\n",
    "\n",
    "1) <b>Lambda Functions</b> <br>\n",
    " &nbsp;&nbsp;&nbsp;&nbsp; a) Syntax <br>\n",
    " &nbsp;&nbsp;&nbsp;&nbsp; b) Saving to a Variable <br>\n",
    " &nbsp;&nbsp;&nbsp;&nbsp; c) Multiple Inputs <br>\n",
    " &nbsp;&nbsp;&nbsp;&nbsp; d) Passing a Lambda into a Function <br>\n",
    " &nbsp;&nbsp;&nbsp;&nbsp; e) Returning a Lambda from a Function <br>\n",
    " &nbsp;&nbsp;&nbsp;&nbsp; f) In-Class Exercise #1 <br>\n",
    "2) <b>Map</b> <br>\n",
    " &nbsp;&nbsp;&nbsp;&nbsp; a) Syntax <br>\n",
    " &nbsp;&nbsp;&nbsp;&nbsp; b) Using Lambda's with Map <br>\n",
    " &nbsp;&nbsp;&nbsp;&nbsp; c) In-Class Exercise #2 <br>\n",
    "3) <b>Filter</b> <br>\n",
    " &nbsp;&nbsp;&nbsp;&nbsp; a) Syntax <br>\n",
    " &nbsp;&nbsp;&nbsp;&nbsp; b) Using Lambda's with Filter <br>\n",
    " &nbsp;&nbsp;&nbsp;&nbsp; c) In-Class Exercise #3 <br>\n",
    "4) <b>Reduce</b> <br>\n",
    " &nbsp;&nbsp;&nbsp;&nbsp; a) Syntax <br>\n",
    " &nbsp;&nbsp;&nbsp;&nbsp; b) Using Lambda's with Reduce <br>\n",
    " &nbsp;&nbsp;&nbsp;&nbsp; c) In-Class Exercise #4 <br>\n",
    "5) <b>Recursion</b> <br>\n",
    " &nbsp;&nbsp;&nbsp;&nbsp; a) Implementing a Base <br>\n",
    " &nbsp;&nbsp;&nbsp;&nbsp; b) Writing a Factorial Function <br>\n",
    "\n",
    "6) <b>Generators & Iterators</b> <br>\n",
    " &nbsp;&nbsp;&nbsp;&nbsp; a) Yield Keyword <br>\n",
    " &nbsp;&nbsp;&nbsp;&nbsp; b) Inifinite Generator <br>\n",
    "\n",
    "7) <b>Exercises</b> <br>\n",
    " &nbsp;&nbsp;&nbsp;&nbsp; a) Exercise #1 - Filtering Empty Strings <br>\n",
    " &nbsp;&nbsp;&nbsp;&nbsp; b) Exercise #2 - Sorting with Last Name <br>\n",
    " &nbsp;&nbsp;&nbsp;&nbsp; c) Exercise #3 - Conversion to Farhenheit <br>\n",
    " &nbsp;&nbsp;&nbsp;&nbsp; d) Exercise #4 - Fibonacci Sequence <br>"
   ]
  },
  {
   "cell_type": "markdown",
   "metadata": {},
   "source": [
    "## Lambda Functions <br>\n",
    "<p>Lambda functions... or \"Anonymous Functions\" are referring to inline functions with no name. The keyword lambda denotes the no name function, and executes within a single line. Without saving it to a variable; however, it is not able to be used, unless passed in either as a paramater or within list comprehension.<br>Written as \"(keyword lambda) (one or more inputs) (colon) (function to be executed)\"</p>"
   ]
  },
  {
   "cell_type": "markdown",
   "metadata": {},
   "source": [
    "#### Syntax"
   ]
  },
  {
   "cell_type": "code",
   "execution_count": 1,
   "metadata": {},
   "outputs": [
    {
     "name": "stdout",
     "output_type": "stream",
     "text": [
      "5\n",
      "<function <lambda> at 0x000002C788BEE700>\n"
     ]
    }
   ],
   "source": [
    "def add_two(num):\n",
    "    return num+2\n",
    "\n",
    "print(add_two(3))\n",
    "    #lambda functions should only be 1 line or at least...\n",
    "    #lambda syntax\n",
    "    #lamda can take in a parameter: the value of the expression is what gets returned\n",
    "\n",
    "print(lambda num: num+2)"
   ]
  },
  {
   "cell_type": "markdown",
   "metadata": {},
   "source": [
    "#### Saving to a Variable"
   ]
  },
  {
   "cell_type": "code",
   "execution_count": 2,
   "metadata": {},
   "outputs": [
    {
     "name": "stdout",
     "output_type": "stream",
     "text": [
      "<function <lambda> at 0x000002C788D4E8E0>\n",
      "5\n"
     ]
    }
   ],
   "source": [
    "add_two = lambda num: num+2\n",
    "\n",
    "print(add_two)\n",
    "print(add_two(3))"
   ]
  },
  {
   "cell_type": "markdown",
   "metadata": {},
   "source": [
    "#### Multiple Inputs"
   ]
  },
  {
   "cell_type": "code",
   "execution_count": 3,
   "metadata": {},
   "outputs": [
    {
     "name": "stdout",
     "output_type": "stream",
     "text": [
      "<function <lambda> at 0x000002C788BEE7A0>\n",
      "6\n"
     ]
    }
   ],
   "source": [
    "volume = lambda l,w,h: l*w*h\n",
    "\n",
    "print(volume)\n",
    "print(volume(1,2,3))"
   ]
  },
  {
   "cell_type": "markdown",
   "metadata": {},
   "source": [
    "#### Passing a Lambda into a Function"
   ]
  },
  {
   "cell_type": "code",
   "execution_count": 4,
   "metadata": {},
   "outputs": [
    {
     "name": "stdout",
     "output_type": "stream",
     "text": [
      "9\n"
     ]
    }
   ],
   "source": [
    "def multiply(func, num):\n",
    "    return func(num)\n",
    "\n",
    "print(multiply(lambda num: num * num, 3))"
   ]
  },
  {
   "cell_type": "markdown",
   "metadata": {},
   "source": [
    "#### Returning a Lambda from a Function"
   ]
  },
  {
   "cell_type": "code",
   "execution_count": 2,
   "metadata": {},
   "outputs": [
    {
     "name": "stdout",
     "output_type": "stream",
     "text": [
      "16\n",
      "64\n"
     ]
    }
   ],
   "source": [
    "def set_expo(num):\n",
    "    return lambda lnum: lnum**num\n",
    "\n",
    "squares = set_expo(2)\n",
    "print(squares(4))\n",
    "\n",
    "cubes = set_expo(3)\n",
    "print(cubes(4))\n"
   ]
  },
  {
   "cell_type": "markdown",
   "metadata": {},
   "source": [
    "#### If Statements within Lambdas"
   ]
  },
  {
   "cell_type": "code",
   "execution_count": 4,
   "metadata": {},
   "outputs": [
    {
     "name": "stdout",
     "output_type": "stream",
     "text": [
      "2 is even.\n",
      "5 is odd.\n"
     ]
    }
   ],
   "source": [
    "#true if condition else false \n",
    "        \n",
    "                        #TRUE           #IF CONDITION        #FALSE\n",
    "evens = lambda num: f'{num} is even.' if num % 2 == 0 else f'{num} is odd.'\n",
    "\n",
    "print(evens(2))\n",
    "print(evens(5))"
   ]
  },
  {
   "cell_type": "markdown",
   "metadata": {},
   "source": [
    "#### In-Class Exercise #1 <br>\n",
    "<p>Write an anonymous function that cubes the arguments passed in and assign the anonymous function to a variable 'f'.</p>"
   ]
  },
  {
   "cell_type": "code",
   "execution_count": 5,
   "metadata": {},
   "outputs": [
    {
     "name": "stdout",
     "output_type": "stream",
     "text": [
      "8\n"
     ]
    }
   ],
   "source": [
    "# #PASSING: def multiply(func, num):\n",
    "#     return func(num)\n",
    "\n",
    "# print(multiply(lambda num: num * num, 3))\n",
    "\n",
    "#RETURNING:\n",
    "# def set_expo(num):\n",
    "#     return lambda lnum: lnum**num\n",
    "\n",
    "# squares = set_expo(2)\n",
    "# print(squares(4))\n",
    "\n",
    "# cubes = set_expo(3)\n",
    "# print(cubes(4))\n",
    "\n",
    "cubed = lambda num: num**3\n",
    "\n",
    "print(cubed(2))\n",
    "\n",
    "\n"
   ]
  },
  {
   "cell_type": "markdown",
   "metadata": {},
   "source": [
    "## Map <br>\n",
    "<p>The map function allows you to iterate over an entire list while running a function on each item of the list. This is why the map function works well with lambda's, because it simplifies things and you write less lines of code.<br>The syntax for a map function is \"map(function to be used, list to be used)\"<br>However, you must be careful, as the map function returns a map object, not a list. To turn it into a list we use the list() type conversion.</p>"
   ]
  },
  {
   "cell_type": "markdown",
   "metadata": {},
   "source": [
    "#### Syntax"
   ]
  },
  {
   "cell_type": "code",
   "execution_count": 8,
   "metadata": {},
   "outputs": [
    {
     "name": "stdout",
     "output_type": "stream",
     "text": [
      "[2, 4, 6, 8, 10]\n",
      "[2, 4, 6, 8, 10]\n"
     ]
    }
   ],
   "source": [
    "#map(function,iterable) interable = string, list, dictionary, sect\n",
    "#RETURNS A MAP OBJECT, MAKE SURE TO CONVERT TO LIST \n",
    "\n",
    "#WE HAVE TO HAVE A MAP TO PROCESS THE ITERABLE\n",
    "\n",
    "def double_nums(alist):\n",
    "    doubles = []\n",
    "    for num in alist:\n",
    "        doubles.append(num*2)\n",
    "    return doubles\n",
    "\n",
    "the_list = [1,2,3,4,5]\n",
    "print(double_nums(the_list))\n",
    "\n",
    "#------\n",
    "\n",
    "def double(num):\n",
    "    return num*2\n",
    "\n",
    "print(list(map(double, the_list)))\n",
    "#(List(map etc will convrt it into a list))\n"
   ]
  },
  {
   "cell_type": "markdown",
   "metadata": {},
   "source": [
    "#### Using Lambda's with Map"
   ]
  },
  {
   "cell_type": "code",
   "execution_count": 5,
   "metadata": {},
   "outputs": [
    {
     "name": "stdout",
     "output_type": "stream",
     "text": [
      "[2, 4, 6, 8, 10]\n"
     ]
    }
   ],
   "source": [
    "the_list = [1,2,3,4,5]\n",
    "\n",
    "map(lambda num: num*2, the_list)\n",
    "\n",
    "\n",
    "print(list(map(lambda num: num*2, the_list )))"
   ]
  },
  {
   "cell_type": "markdown",
   "metadata": {},
   "source": [
    "#### In-Class Exercise #2 <br>\n",
    "<p>Use the map function to double each number and minus it by one in the list by using a lambda function</p>"
   ]
  },
  {
   "cell_type": "code",
   "execution_count": 10,
   "metadata": {},
   "outputs": [
    {
     "name": "stdout",
     "output_type": "stream",
     "text": [
      "[1, 3, 5, 7, 9]\n"
     ]
    }
   ],
   "source": [
    "# def double_nums(alist):\n",
    "#     doubles = []\n",
    "#     for num in alist:\n",
    "#         doubles.append(num*2)\n",
    "#     return doubles\n",
    "\n",
    "# the_list = [1,2,3,4,5]\n",
    "# print(double_nums(the_list))\n",
    "\n",
    "this_list = [1,2,3,4,5]\n",
    "print(list(map(lambda num:(num*2)-1, the_list)))"
   ]
  },
  {
   "cell_type": "markdown",
   "metadata": {},
   "source": [
    "## Filter() <br>\n",
    "<p>Filter's are similar to the map function, where you're able to pass a function argument and a list argument and filter out something from the list based on the conditions passed. Similar to the map function, it returns a filter object, so you need to type convert it to a list()</p>"
   ]
  },
  {
   "cell_type": "markdown",
   "metadata": {},
   "source": [
    "#### Syntax"
   ]
  },
  {
   "cell_type": "code",
   "execution_count": 15,
   "metadata": {},
   "outputs": [
    {
     "name": "stdout",
     "output_type": "stream",
     "text": [
      "[2, 4]\n",
      "[2, 4]\n"
     ]
    }
   ],
   "source": [
    "#filter(function, iterable) function return a boolean of true or false \n",
    "\n",
    "def onlyEvens(alist):\n",
    "    evens = []\n",
    "\n",
    "    for num in alist: \n",
    "        if num % 2 == 0: \n",
    "            evens.append(num)\n",
    "    return evens\n",
    "\n",
    "fun_list = [1,2,3,4,5]\n",
    "\n",
    "print(onlyEvens(fun_list))\n",
    "\n",
    "def checkEven(num): \n",
    "    if num % 2 == 0:\n",
    "        return True\n",
    "    else: \n",
    "        return False \n",
    "    \n",
    "    #THE IF STATEMENT CAN ALSO BE WRTTEN LIKE: return num % 2 == 0\n",
    "    \n",
    "print(list(filter(checkEven, fun_list)))"
   ]
  },
  {
   "cell_type": "markdown",
   "metadata": {},
   "source": [
    "#### Using Lambda's with Filter()"
   ]
  },
  {
   "cell_type": "code",
   "execution_count": 20,
   "metadata": {},
   "outputs": [
    {
     "name": "stdout",
     "output_type": "stream",
     "text": [
      "[2, 4]\n"
     ]
    }
   ],
   "source": [
    "fun_list = [1,2,3,4,5]\n",
    "print(list(filter(lambda num: num % 2 == 0, fun_list)))"
   ]
  },
  {
   "cell_type": "markdown",
   "metadata": {},
   "source": [
    "#### In-Class Exercise #3 <br>\n",
    "<p>Filter out all the numbers that are below 10 of the list.<br><b>Hint: Import the 'statistics' module</b></p>"
   ]
  },
  {
   "cell_type": "code",
   "execution_count": 6,
   "metadata": {},
   "outputs": [
    {
     "name": "stdout",
     "output_type": "stream",
     "text": [
      "[1, 8, 9, 10, 4]\n"
     ]
    }
   ],
   "source": [
    "#FILTER OUT ALL THE NUMBERS THAT ARE BELOW 10. \n",
    "# def onlyEvens(alist):\n",
    "#     evens = []\n",
    "\n",
    "#     for num in alist: \n",
    "#         if num % 2 == 0: \n",
    "#             evens.append(num)\n",
    "#     return evens\n",
    "\n",
    "# fun_list = [1,2,3,4,5]\n",
    "\n",
    "# print(onlyEvens(fun_list))\n",
    "\n",
    "# def checkEven(num): \n",
    "#     if num % 2 == 0:\n",
    "#         return True\n",
    "#     else: \n",
    "#         return False \n",
    "    \n",
    "#     #THE IF STATEMENT CAN ALSO BE WRTTEN LIKE: return num % 2 == 0\n",
    "    \n",
    "# print(list(filter(checkEven, fun_list)))\n",
    "\n",
    "this_list = [1,12,34,8,9,10,4,75]\n",
    "\n",
    "print(list(filter(lambda num: num <=10, this_list)))\n"
   ]
  },
  {
   "cell_type": "markdown",
   "metadata": {},
   "source": [
    "## Reduce() <br>\n",
    "<p>Be very careful when using this function, as of Python 3 it's been moved to the 'functools' library and no longer is a built-in function.<br>The creator of Python himself, says to just use a for loop instead.</p>"
   ]
  },
  {
   "cell_type": "markdown",
   "metadata": {},
   "source": [
    "#### Syntax"
   ]
  },
  {
   "cell_type": "code",
   "execution_count": 9,
   "metadata": {},
   "outputs": [
    {
     "name": "stdout",
     "output_type": "stream",
     "text": [
      "36\n",
      "1 2\n",
      "3 3\n",
      "6 4\n",
      "10 5\n",
      "15 6\n",
      "21 7\n",
      "28 8\n",
      "36\n"
     ]
    }
   ],
   "source": [
    "from functools import reduce\n",
    "\n",
    "new_list = [1,2,3,4,5,6,7,8]\n",
    "\n",
    "def add_nums(alist):\n",
    "    total = 0 \n",
    "    for num in alist:\n",
    "        total += num\n",
    "    return total \n",
    "\n",
    "print(add_nums(new_list))\n",
    "\n",
    "#reduce(function(x,y), iterable)\n",
    "\n",
    "def reduce_nums(x,y):\n",
    "    print(x,y)\n",
    "    return x + y\n",
    "\n",
    "print(reduce(reduce_nums, new_list))"
   ]
  },
  {
   "cell_type": "markdown",
   "metadata": {},
   "source": [
    "#### Using Lambda's with Reduce()"
   ]
  },
  {
   "cell_type": "code",
   "execution_count": 10,
   "metadata": {},
   "outputs": [
    {
     "name": "stdout",
     "output_type": "stream",
     "text": [
      "36\n"
     ]
    }
   ],
   "source": [
    "new_list = [1,2,3,4,5,6,7,8]\n",
    "print(reduce(lambda x,y: x + y, new_list))"
   ]
  },
  {
   "cell_type": "markdown",
   "metadata": {},
   "source": [
    "#### In-Class Exercise #4 <br>\n",
    "<p>Use the reduce function to multiply the numbers in the list below together with a lambda function.</p>"
   ]
  },
  {
   "cell_type": "code",
   "execution_count": 31,
   "metadata": {},
   "outputs": [
    {
     "name": "stdout",
     "output_type": "stream",
     "text": [
      "40320\n"
     ]
    }
   ],
   "source": [
    "new_list = [1,2,3,4,5,6,7,8]\n",
    "print(reduce(lambda x,y: x*y, new_list))"
   ]
  },
  {
   "cell_type": "markdown",
   "metadata": {},
   "source": [
    "## Recursion <br>\n",
    "<p>Recursion means that a function is calling itself, so it contanstly executes until a base case is reached. It will then push the returning values back up the chain until the function is complete. A prime example of recursion is computing factorials... such that 5! (factorial) is 5*4*3*2*1 which equals 120.</p>"
   ]
  },
  {
   "cell_type": "markdown",
   "metadata": {},
   "source": [
    "#### Implementing a Base Case"
   ]
  },
  {
   "cell_type": "code",
   "execution_count": 25,
   "metadata": {},
   "outputs": [
    {
     "name": "stdout",
     "output_type": "stream",
     "text": [
      "Recursive Call\n",
      "add_nums(5) = 5 + add_nums4\n",
      "Recursive Call\n",
      "add_nums(4) = 4 + add_nums3\n",
      "Recursive Call\n",
      "add_nums(3) = 3 + add_nums2\n",
      "Recursive Call\n",
      "add_nums(2) = 2 + add_nums1\n",
      "Base Case Reached\n",
      "15\n"
     ]
    }
   ],
   "source": [
    "def add_nums(num):\n",
    "    #hypo num = 5\n",
    "    # 5 + 4 + 3 + 2 + 1\n",
    "\n",
    "    #establish the base case \n",
    "    if num <= 1:\n",
    "        print('Base Case Reached')\n",
    "        return num\n",
    "    else: #if the base case does not equal 1\n",
    "        #recursive call, function calling itself \n",
    "        print('Recursive Call')\n",
    "        print(f'add_nums({num}) = {num} + add_nums{num - 1}')\n",
    "        return num + add_nums(num -1)\n",
    "print(add_nums(5))\n",
    "\n",
    "#\n",
    "\n",
    "def unpack(alist):\n",
    "    for item in alist:\n",
    "        if isinstance(item, list):\n",
    "            print('recursive call')\n",
    "            unpack(item)\n",
    "        else:\n",
    "            print(item)\n",
    "\n",
    "this_list = [1,2,3,[4,5,6,[7,8,9],10]]\n",
    "unpack(this_list)"
   ]
  },
  {
   "cell_type": "markdown",
   "metadata": {},
   "source": [
    "#### Writing a Factorial Function"
   ]
  },
  {
   "cell_type": "code",
   "execution_count": 42,
   "metadata": {},
   "outputs": [
    {
     "name": "stdout",
     "output_type": "stream",
     "text": [
      "factorial5) = 5 * factorial4\n",
      "factorial4) = 4 * factorial3\n",
      "factorial3) = 3 * factorial2\n",
      "factorial2) = 2 * factorial1\n",
      "base case\n",
      "I equal 1\n",
      "120\n"
     ]
    }
   ],
   "source": [
    "def factorial(num):\n",
    "    #basecase\n",
    "    if num <= 1: \n",
    "        print('base case')\n",
    "        print('I equal 1')\n",
    "        return 1\n",
    "    else: \n",
    "        print(f'factorial{num}) = {num} * factorial{num - 1}')\n",
    "        return num * factorial(num - 1)\n",
    "    \n",
    "print(factorial(5))"
   ]
  },
  {
   "cell_type": "markdown",
   "metadata": {},
   "source": [
    "## Generators <br>\n",
    "<p>Generators are a type of iterable, like lists or tuples. They do not allow indexing, but they can still be iterated through with for loops. They are created using functions and the yield statement.</p>"
   ]
  },
  {
   "cell_type": "markdown",
   "metadata": {},
   "source": [
    "#### Yield Keyword <br>\n",
    "<p>The yield keyword denotes a generator, it doesn't return so it won't leave the function and reset all variables in the function scope, instead it yields the number back to the caller.</p>"
   ]
  },
  {
   "cell_type": "code",
   "execution_count": 45,
   "metadata": {},
   "outputs": [
    {
     "name": "stdout",
     "output_type": "stream",
     "text": [
      "0\n",
      "1\n",
      "2\n",
      "3\n",
      "4\n",
      "5\n"
     ]
    }
   ],
   "source": [
    "def my_genny():\n",
    "    num = 0\n",
    "    #does not return anything and yielded which means they will be called again to run \n",
    "    while True: \n",
    "        yield num \n",
    "        num += 1 \n",
    "\n",
    "#BUILDING OUT INSTANCE OF THE GENERATOR \n",
    "generate = my_genny()\n",
    "print(next(generate))\n",
    "print(next(generate))\n",
    "print(next(generate))\n",
    "\n",
    "\n",
    "my_list = []\n",
    "#can use while loops \n",
    "while len(my_list) <=10: \n",
    "    my_list.append(next(generate))\n",
    "print(my_list)\n",
    "\n",
    "#can use for loops\n",
    "for num in range(10):\n",
    "    print(next(generate))\n"
   ]
  },
  {
   "cell_type": "markdown",
   "metadata": {},
   "source": [
    "# Exercises"
   ]
  },
  {
   "cell_type": "markdown",
   "metadata": {},
   "source": [
    "### Exercise #1 <br>\n",
    "<p>Filter out all of the empty strings from the list below</p>\n",
    "\n",
    "`Output: ['Argentina', 'San Diego', 'Boston', 'New York']`"
   ]
  },
  {
   "cell_type": "code",
   "execution_count": 14,
   "metadata": {},
   "outputs": [
    {
     "name": "stdout",
     "output_type": "stream",
     "text": [
      "['Argentina', 'San Diego', 'Boston', 'New York']\n"
     ]
    }
   ],
   "source": [
    "#use the filter built in and filter the list and sort them out. Try to use a Lambda, \n",
    "#but don't have to and can help a helper function to incorporate into the lambda.\n",
    "places = [\" \",\"Argentina\", \" \", \"San Diego\",\"\",\"  \",\"\",\"Boston\",\"New York\"]\n",
    "\n",
    "new_list = list(filter(lambda country: country.strip() != \"\", places))\n",
    "print(new_list)\n",
    "#new_list         #filter     #name of lambda   #use strip to ensure what is not equal to the empty spaces\n"
   ]
  },
  {
   "cell_type": "markdown",
   "metadata": {},
   "source": [
    "### Exercise #2 <br>\n",
    "<p>Write an anonymous function that sorts this list by the last name...<br><b>Hint: Use the \".sort()\" method and access the key\"</b></p>\n",
    "\n",
    "`Output: ['Victor aNisimov', 'Gary A.J. Bernstein', 'Joel Carter', 'Andrew P. Garfield', 'David hassELHOFF']`\n",
    "\n",
    "\n"
   ]
  },
  {
   "cell_type": "code",
   "execution_count": 15,
   "metadata": {},
   "outputs": [
    {
     "name": "stdout",
     "output_type": "stream",
     "text": [
      "['Victor aNisimov', 'Gary A.J. Bernstein', 'Joel Carter', 'Andrew P. Garfield', 'David hassELHOFF']\n"
     ]
    }
   ],
   "source": [
    "#write a lamba function -- look up how to use key in sort.\n",
    "#sort into title/caps if you want \n",
    "#use the sort.method \n",
    "author = [\"Joel Carter\", \"Victor aNisimov\", \"Andrew P. Garfield\",\"David hassELHOFF\",\"Gary A.J. Bernstein\"]\n",
    "\n",
    "#sort the author list\n",
    "author.sort(key=lambda name: name.split()[-1].lower())\n",
    "                                            #use lower to find lower case sensitive \n",
    "print(author)"
   ]
  },
  {
   "cell_type": "markdown",
   "metadata": {},
   "source": [
    "### Exercise #3 <br>\n",
    "<p>Convert the list below from Celsius to Farhenheit, using the map function with a lambda...</p>\n",
    "\n",
    "`Output: [('Nashua', 89.6), ('Boston', 53.6), ('Los Angelos', 111.2), ('Miami', 84.2)]\n",
    "`"
   ]
  },
  {
   "cell_type": "code",
   "execution_count": 18,
   "metadata": {},
   "outputs": [
    {
     "name": "stdout",
     "output_type": "stream",
     "text": [
      "[('Nashua', 89.6), ('Boston', 53.6), ('Los Angelos', 111.2), ('Miami', 84.2)]\n"
     ]
    }
   ],
   "source": [
    "# F = (9/5)*C + 32\n",
    "#when converting C to F, please maintain the city names. Use map to go over 1 of each tuple and change the value and add it to the list at the end.\n",
    "# #Note: Tuples , are they ordered? \n",
    "# the_list = [1,2,3,4,5]\n",
    "# map(lambda num: num*2, the_list)\n",
    "# print(list(map(lambda num: num*2, the_list )))\n",
    "    #map(function, iterable)\n",
    "#output is a list \n",
    "#formula:  °F = °C×(9/5)+32.\n",
    "\n",
    "places = [('Nashua',32),(\"Boston\",12),(\"Los Angelos\",44),(\"Miami\",29)]\n",
    "\n",
    "new_data = list(map(lambda data: (data[0], (9/5) * data[1] + 32), places))\n",
    "print(new_data)\n"
   ]
  },
  {
   "cell_type": "markdown",
   "metadata": {},
   "source": [
    "### Exercise #4 <br>\n",
    "<p>Write a recursion function to perform the fibonacci sequence up to the number passed in.</p>\n",
    "\n",
    "`Output for fib(5) => \n",
    "Iteration 0: 1\n",
    "Iteration 1: 1\n",
    "Iteration 2: 2\n",
    "Iteration 3: 3\n",
    "Iteration 4: 5\n",
    "Iteration 5: 8`"
   ]
  },
  {
   "cell_type": "code",
   "execution_count": 30,
   "metadata": {
    "scrolled": true
   },
   "outputs": [
    {
     "name": "stdout",
     "output_type": "stream",
     "text": [
      "15\n"
     ]
    }
   ],
   "source": [
    "#EXTRA CREDIT \n",
    "#Does need to see an attempt. \n",
    "#Recursion means that a function is calling itself, so it contanstly executes until a base case is reached. It will then push the returning values back up the chain until the \n",
    "#function is complete. A prime example of recursion is computing factorials... such that 5! (factorial) is 5*4*3*2*1 which equals 120.\n",
    "\n",
    "#Lecture Sample: \n",
    "# def add_nums(num):\n",
    "#     #hypo num = 5\n",
    "#     # 5 + 4 + 3 + 2 + 1\n",
    "\n",
    "#     #establish the base case \n",
    "#     if num <= 1:\n",
    "#         print('Base Case Reached')\n",
    "#         return num\n",
    "#     else: #if the base case does not equal 1\n",
    "#         #recursive call, function calling itself \n",
    "#         print('Recursive Call')\n",
    "#         print(f'add_nums({num}) = {num} + add_nums{num - 1}')\n",
    "#         return num + add_nums(num -1)\n",
    "# print(add_nums(5))\n",
    "\n",
    "# #\n",
    "\n",
    "# def unpack(alist):\n",
    "#     for item in alist:\n",
    "#         if isinstance(item, list):\n",
    "#             print('recursive call')\n",
    "#             unpack(item)\n",
    "#         else:\n",
    "#             print(item)\n",
    "\n",
    "# this_list = [1,2,3,[4,5,6,[7,8,9],10]]\n",
    "# unpack(this_list)\n",
    "\n",
    "\n",
    "def f_sequence(num):\n",
    "    if num <= 1: \n",
    "        return num    \n",
    "    else: \n",
    "        return num + f_sequence(num - 1)\n",
    "number = f_sequence(5)\n",
    "print (number)\n",
    "    \n"
   ]
  },
  {
   "cell_type": "code",
   "execution_count": null,
   "metadata": {},
   "outputs": [],
   "source": []
  }
 ],
 "metadata": {
  "kernelspec": {
   "display_name": "Python 3",
   "language": "python",
   "name": "python3"
  },
  "language_info": {
   "codemirror_mode": {
    "name": "ipython",
    "version": 3
   },
   "file_extension": ".py",
   "mimetype": "text/x-python",
   "name": "python",
   "nbconvert_exporter": "python",
   "pygments_lexer": "ipython3",
   "version": "3.11.4"
  }
 },
 "nbformat": 4,
 "nbformat_minor": 2
}
